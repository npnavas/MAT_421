{
  "nbformat": 4,
  "nbformat_minor": 0,
  "metadata": {
    "colab": {
      "provenance": [],
      "authorship_tag": "ABX9TyPlBS0ZbIbrNXeMH+Je4HMU",
      "include_colab_link": true
    },
    "kernelspec": {
      "name": "python3",
      "display_name": "Python 3"
    },
    "language_info": {
      "name": "python"
    }
  },
  "cells": [
    {
      "cell_type": "markdown",
      "metadata": {
        "id": "view-in-github",
        "colab_type": "text"
      },
      "source": [
        "<a href=\"https://colab.research.google.com/github/npnavas/MAT_421/blob/main/MAT_425_HW_4.ipynb\" target=\"_parent\"><img src=\"https://colab.research.google.com/assets/colab-badge.svg\" alt=\"Open In Colab\"/></a>"
      ]
    },
    {
      "cell_type": "markdown",
      "source": [
        "# 19.1 Root Finding Problem\n",
        "In mathematics it is useful to know when given a function $f(x)$ when that function is zero. In other words we want to know some $x_r$ such that $f(x_r)=0$. This is what is caled root finding. For some functions like $f(x) = x^2-1$ this process is trivial analytically however with a more complex function like $f(x) = J_0(x)$, it's better to have an approximate zero. We'll be using these two functions throughout, here we'll use scipy to find these zeros."
      ],
      "metadata": {
        "id": "3WsussBsC2aX"
      }
    },
    {
      "cell_type": "code",
      "execution_count": 12,
      "metadata": {
        "id": "pszMVwhsB_2j",
        "colab": {
          "base_uri": "https://localhost:8080/"
        },
        "outputId": "15751610-3867-499f-8817-9f28ced19163"
      },
      "outputs": [
        {
          "output_type": "stream",
          "name": "stdout",
          "text": [
            "r = [1.]\n",
            "result= [4.4408921e-16]\n",
            "r = [2.40482556]\n",
            "result= [9.58688255e-17]\n"
          ]
        }
      ],
      "source": [
        "import numpy as np\n",
        "from scipy import optimize\n",
        "import scipy.special as spp\n",
        "# x^2 -1 = 0 -> x = +-1\n",
        "f1 = lambda x: (x**2)-1\n",
        "r1 = optimize.fsolve(f1, 0.5)\n",
        "print(\"r =\", r1)\n",
        "\n",
        "# Verify the solution is a root\n",
        "result1 = f1(r1)\n",
        "print(\"result=\", result1)\n",
        "\n",
        "# J_0(x) = 0 about 2.4048\n",
        "f2 = lambda x: spp.j0(x)\n",
        "r2 = optimize.fsolve(f2, 2)\n",
        "print(\"r =\", r2)\n",
        "\n",
        "# Verify the solution is a root\n",
        "result2 = f2(r2)\n",
        "print(\"result=\", result2)"
      ]
    },
    {
      "cell_type": "markdown",
      "source": [
        "# 19.2 Tolerance\n",
        "As you might've seen in the last section of code when plugging the approximate zero back into the function, our value wasn't exactly zero. This is where the idea of tolerance comes from. The idea is that there is a \"close enough\" value within some error of the exact zero we are will to accept. Here we'll talk about two types of tolerance. First since we want $x_r$ close to zero we can say that we can measure error by using $\\left|f(x_r)\\right|$ as if this value is small we can infer that we have a zero. The second method of error measure is to compare the difference of $x_{i+1}$ and $x_i$ in an iterative method, in other words $|x_{i+1}-x_i|$. This is a useful method since we expect improvments between each iteration so once the difference between two subsequent iteration becomes negliable we get that we'll be close to a root."
      ],
      "metadata": {
        "id": "VnLFKhEXFFvE"
      }
    },
    {
      "cell_type": "markdown",
      "source": [
        "# 19.3 Bisection Method\n",
        "Here we will recall that for $\\forall a,b\\in\\mathbb{R}$ such that $a < b$ for some function $f:[a,b]\\to\\mathbb{R},\\ f(x)$ that if $\\text{sign}(f(a))\\neq\\text{sign}(f(b))$ then $\\exists c\\in\\mathbb{R}$ such that $a < c < b$ where $f(c)=0$. Bisection method takes advantage of this property (called the intermediate value theorem). Bisection method starts off by picking (W.O.L.G.), $a < b$ such that $f(a) > 0$ and $f(b) < 0$. Next you want to find the midpoint $x_m = \\frac{a+b}{2}$ and we'll do one of three things\n",
        "\n",
        "\n",
        "*   If we are close enough to zero or $f(x_m)=0$ then we stop as we've found the root\n",
        "*   If $f(x_m) > 0$ then $a = x_m$ \n",
        "*   If $f(x_m) < 0$ then $b = x_m$\n",
        "\n",
        "Here we'll write some code to find the first non-negative root of the two functions described in 19.1."
      ],
      "metadata": {
        "id": "-vAJt3mKFJm1"
      }
    },
    {
      "cell_type": "code",
      "source": [
        "import numpy as np\n",
        "import scipy.special as spp\n",
        "\n",
        "def bisect(f, a, b, tol):\n",
        "  if np.sign(f(a))==np.sign(f(b)): # No root contained in interval\n",
        "    raise Exception(\"a and b do not contain a root, interval adjusting to be implimented later\")\n",
        "  \n",
        "  xm = (a+b)/2\n",
        "  if np.abs(f(xm)) < tol: # Found root close enough\n",
        "    return xm \n",
        "  elif np.sign(f(a)) == np.sign(f(xm)): # adjust left bound\n",
        "    return bisect(f, xm, b, tol)\n",
        "  elif np.sign(f(b)) == np.sign(f(xm)): # adjust right bound\n",
        "    return bisect(f, a, xm, tol)\n",
        "\n",
        "f = lambda x: x**2 - 1\n",
        "r1 = bisect(f, 0, 2, np.finfo(float).eps)\n",
        "print(\"root for x^2-1 =\", r1)\n",
        "\n",
        "g = lambda x: spp.j0(x)\n",
        "\n",
        "r2 = bisect(g, 2, 2.5, np.finfo(float).eps)\n",
        "print(\"Root for J0(x) = \", r2)"
      ],
      "metadata": {
        "id": "H_Y-OuDkFN7m",
        "colab": {
          "base_uri": "https://localhost:8080/"
        },
        "outputId": "2c7fa875-f269-429e-d5b4-2d019ada81eb"
      },
      "execution_count": 29,
      "outputs": [
        {
          "output_type": "stream",
          "name": "stdout",
          "text": [
            "root for x^2-1 = 1.0\n",
            "Root for J0(x) =  2.404825557695773\n"
          ]
        }
      ]
    },
    {
      "cell_type": "markdown",
      "source": [
        "There is a way to ensure that your interval contains 0. Given some aribtary a,b we can do the following loop to ensure that a root is within the interval\n",
        "\n",
        "```\n",
        "xm = (a+b)/2\n",
        "while f(a)*f(b) > 0:\n",
        "    a = 2*(a-xm) + xm\n",
        "    b = 2*(b-xm) + xm\n",
        "```"
      ],
      "metadata": {
        "id": "6i5L9-XLFVbv"
      }
    },
    {
      "cell_type": "markdown",
      "source": [
        "# 19.4 Newton-Raphson Method\n",
        "Next let's consider we have a smooth function $f(x)$ who's first derivative is never zero. Taking the first two terms in $f$'s Taylor expansion about some $x_0$ we get\n",
        "$$ f(x) \\approx f(x_0)+f'(x_0)(x-x_0).$$\n",
        "Let's take some guess $x = x_1$ and solving for $x_1$ we get\n",
        "$$x_1 = x_0-\\dfrac{f(x_0)}{f'(x_0)}.$$\n",
        "We can keep repeating this process to get \n",
        "$$x_i =x_{i-1} \\dfrac{f(x_{i-1})}{f'(x_{i-1})},$$\n",
        "and we can stop once a tolerance condition is met\n",
        "\n",
        "Let's see this in action using python on the functions from 19.1."
      ],
      "metadata": {
        "id": "cMhROXOtFOim"
      }
    },
    {
      "cell_type": "code",
      "source": [
        "import numpy as np\n",
        "import scipy.special as spp\n",
        "\n",
        "def newton(f, df, x0, tol):\n",
        "  if abs(f(x0)) < tol:\n",
        "    return x0\n",
        "  else:\n",
        "    xn = x0 - (f(x0)/df(x0))\n",
        "    return newton(f, df, xn, tol)\n",
        "\n",
        "f = lambda x: x**2 -1\n",
        "df = lambda x: 2*x\n",
        "xr1 = newton(f, df, 0.5, np.finfo(float).eps)\n",
        "print(\"Root for x^2-1 using Newton-Raphson: \", xr1)\n",
        "\n",
        "g = lambda x: spp.j0(x)\n",
        "dg = lambda x: spp.jvp(0, x, n=1)\n",
        "xr2 = newton(g, dg, 2, np.finfo(float).eps)\n",
        "print(\"Root for J0(x) using Newton-Raphson: \", xr2)"
      ],
      "metadata": {
        "id": "C6pChIzQFTc-",
        "colab": {
          "base_uri": "https://localhost:8080/"
        },
        "outputId": "06340d33-1a22-4d54-d217-124e081df42b"
      },
      "execution_count": 36,
      "outputs": [
        {
          "output_type": "stream",
          "name": "stdout",
          "text": [
            "Root for x^2-1 using Newton-Raphson:  1.0\n",
            "Root for J0(x) using Newton-Raphson:  2.4048255576957724\n"
          ]
        }
      ]
    },
    {
      "cell_type": "markdown",
      "source": [
        "# 19.5 Root Finding In Python\n",
        "As we saw in 19.1 we saw that scipy has a root finding method `f_solve`. Similar to the method in 19.4 we need to take an initial guess but the `f_solve` method does allow for functions with multiple zeros. Let's use it to find both zeroes of our polynomial and first few zeros of our Bessel function."
      ],
      "metadata": {
        "id": "fzFzdVZvFT3G"
      }
    },
    {
      "cell_type": "code",
      "source": [
        "import numpy as np\n",
        "import scipy.special as spp\n",
        "from scipy.optimize import fsolve\n",
        "\n",
        "f = lambda x: x**2 - 1\n",
        "xr1 = fsolve(f, [-2,2])\n",
        "print(\"Roots of x^2-1 using f_solve: \", xr1)\n",
        "\n",
        "g = lambda x: spp.j0(x)\n",
        "xr2 = fsolve(g, [2,6,9])\n",
        "print(\"First three roots of J0(x) using f_solve: \", xr2)\n",
        "print(\"Built in zeros of J0(x) for comparison  : \", spp.jn_zeros(0, 3))"
      ],
      "metadata": {
        "colab": {
          "base_uri": "https://localhost:8080/"
        },
        "id": "rGScTWjyPiCM",
        "outputId": "7f4d7210-70d8-48fb-d7a8-356de76e8bfb"
      },
      "execution_count": 43,
      "outputs": [
        {
          "output_type": "stream",
          "name": "stdout",
          "text": [
            "Roots of x^2-1 using f_solve:  [-1.  1.]\n",
            "First three roots of J0(x) using f_solve:  [2.40482556 5.52007811 8.65372791]\n",
            "Built in zeros of J0(x) for comparison  :  [2.40482556 5.52007811 8.65372791]\n"
          ]
        }
      ]
    }
  ]
}