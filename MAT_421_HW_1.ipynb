{
  "nbformat": 4,
  "nbformat_minor": 0,
  "metadata": {
    "colab": {
      "provenance": [],
      "authorship_tag": "ABX9TyMQETV+Bjcod3z9d0Qj2MIP",
      "include_colab_link": true
    },
    "kernelspec": {
      "name": "python3",
      "display_name": "Python 3"
    },
    "language_info": {
      "name": "python"
    }
  },
  "cells": [
    {
      "cell_type": "markdown",
      "metadata": {
        "id": "view-in-github",
        "colab_type": "text"
      },
      "source": [
        "<a href=\"https://colab.research.google.com/github/npnavas/MAT_421/blob/main/MAT_421_HW_1.ipynb\" target=\"_parent\"><img src=\"https://colab.research.google.com/assets/colab-badge.svg\" alt=\"Open In Colab\"/></a>"
      ]
    },
    {
      "cell_type": "markdown",
      "source": [
        "# **9.1 Base-N and Binary**"
      ],
      "metadata": {
        "id": "qZnpbshZPeo2"
      }
    },
    {
      "cell_type": "markdown",
      "source": [
        "When doing mathematics we work in what is called a base ten system. However a computer being built around transistors means we either have current going through a wire or it isn't. This is where we would want to represent numbers in a base 2 number system. Here we use a series of bits (digits) to represent numbers.\n",
        "\n",
        "To convert from our normal base-10 system to base-2 is to expand a number into its sum of powers of 2 and put a 1 if that power of 2 is used ad 0 if not. "
      ],
      "metadata": {
        "id": "hQ_XN1-3J_7g"
      }
    },
    {
      "cell_type": "markdown",
      "source": [
        "Here let's look at some integers in base-10 and their base-2 representation \n",
        "*   $64 = \\left(12^6\\right) + 0 \\left(2^5\\right) + 0 \\left(2^4\\right) + 0 \\left(2^3\\right) + 0 \\left(2^2\\right) + 0 \\left(2^1\\right) + 0 \\left(2^0\\right) = 1000000$\n",
        "*   $13 = 1 \\left(2^3\\right) 1 \\left(2^2\\right)+ 0 \\left(2^1\\right)+ 1\\left(2^0\\right) = 1101$\n",
        "*   $3 = 1 \\left(2^1\\right) + 1\\left(2^0\\right) = 11$\n",
        "*   $22 = 1 \\left(2^4\\right) + 0 \\left(2^3\\right) + 1 \\left(2^2\\right) + 1 \\left(2^1\\right) + 0 \\left(2^0\\right) = 10110$\n",
        "\n",
        "We can use the python builtin ```bin()``` to verify our results\n",
        "\n",
        "\n",
        "\n"
      ],
      "metadata": {
        "id": "7SQ-SnCCMigH"
      }
    },
    {
      "cell_type": "code",
      "source": [
        "print(bin(64))\n",
        "print(bin(13))\n",
        "print(bin(3))\n",
        "print(bin(22))"
      ],
      "metadata": {
        "colab": {
          "base_uri": "https://localhost:8080/"
        },
        "id": "wBpsqgH6MWyh",
        "outputId": "00db548a-7dab-4337-c59c-f8e9565832c4"
      },
      "execution_count": 1,
      "outputs": [
        {
          "output_type": "stream",
          "name": "stdout",
          "text": [
            "0b1000000\n",
            "0b1101\n",
            "0b11\n",
            "0b10110\n"
          ]
        }
      ]
    },
    {
      "cell_type": "markdown",
      "source": [
        "As you can see doing the reverse will allow us to convert from base-2 back to base 10. \n",
        "\n",
        "We can use the following python function `my_bin_to_dec(binary_num)` or the python built-in `int(binary_num,2)`"
      ],
      "metadata": {
        "id": "2Wk5pcEkPQJ1"
      }
    },
    {
      "cell_type": "code",
      "execution_count": 2,
      "metadata": {
        "colab": {
          "base_uri": "https://localhost:8080/"
        },
        "id": "h7b9hN4whLhs",
        "outputId": "a0cdc2f8-54f3-435d-cb84-15535398d7b6"
      },
      "outputs": [
        {
          "output_type": "stream",
          "name": "stdout",
          "text": [
            "64\n",
            "13\n",
            "3\n",
            "22\n",
            "\n",
            "64\n",
            "13\n",
            "3\n",
            "22\n"
          ]
        }
      ],
      "source": [
        "def my_bin_to_dec(b):\n",
        "\n",
        "  a = (list(reversed(b)))\n",
        "  dec = 0\n",
        "  n = 0\n",
        "  while n < len(a):\n",
        "    if a[n] == 1:\n",
        "      dec += 2**n\n",
        "      n+=1\n",
        "    elif a[n] == 0:\n",
        "      n+=1\n",
        "    elif a[n] not in [0,1]:\n",
        "      return \"Not a binary number\"\n",
        "      break\n",
        "  return dec\n",
        "\n",
        "print(my_bin_to_dec([1,0,0,0,0,0,0]))\n",
        "print(my_bin_to_dec([1,1,0,1]))\n",
        "print(my_bin_to_dec([1,1]))\n",
        "print(my_bin_to_dec([1,0,1,1,0]))\n",
        "print()\n",
        "print(int('0b1000000',2))\n",
        "print(int('0b1101',2))\n",
        "print(int('0b11',2))\n",
        "print(int('0b10110',2))\n",
        "\n",
        "\n"
      ]
    },
    {
      "cell_type": "markdown",
      "source": [
        "We can understand simple arithmetic like addition and mutiplication fairly easily using a base-2 system. Here we will be using the python built ins to show addition and multiplication work in base-2 as well. "
      ],
      "metadata": {
        "id": "fTL7rkzOPdFm"
      }
    },
    {
      "cell_type": "code",
      "source": [
        "print(f\"Binary representation: {bin(0b1000000+0b1000000)}, decimal representation: {int('0b1000000',2) +int('0b1000000',2)}\") # 64 +64\n",
        "print(f\"Binary representation: {bin(0b1101*0b1101)}, decimal representation: {int('0b1101',2) * int('0b1101',2)}\") # 13 * 13\n"
      ],
      "metadata": {
        "colab": {
          "base_uri": "https://localhost:8080/"
        },
        "id": "UziXvFcXIEPL",
        "outputId": "97cb82e9-baf1-4970-c2d0-0f988e00f759"
      },
      "execution_count": 6,
      "outputs": [
        {
          "output_type": "stream",
          "name": "stdout",
          "text": [
            "Binary representation: 0b10000000, decimal representation: 128\n",
            "Binary representation: 0b10101001, decimal representation: 169\n"
          ]
        }
      ]
    },
    {
      "cell_type": "markdown",
      "source": [
        "# 9.2 Floating Point Numbers\n",
        "Now that we know some of the basics of how binary works we'll start going over how we can represent non-integer numbers using binary. Here for a floating point number we will use 64 to represent our non-integers with the following allocation of bits.\n",
        "\n",
        "\n",
        "*   1 bit for the sign of the number ($s$)\n",
        "*   52 bits to represent the fraction of the number ($f$)\n",
        "*   11 to determine the expoenet (in binary) ($e$)\n",
        "\n",
        "which will be written in the following form $$\\left(-1\\right)^s\\left(1+f\\right)2^{e-2^{10}-1} = \\left(-1\\right)^s\\left(1+f\\right)2^{e-1023}$$\n",
        "\n",
        "\n"
      ],
      "metadata": {
        "id": "Qyhf6jmRLuFX"
      }
    },
    {
      "cell_type": "markdown",
      "source": [
        "Here we note that there is a spacing (or gap) between floating point numbers. That is there is a minimum amount that you can manipulate a given floating point number by (i.e. there's a minimum number you can add/multiply by). We can see this gap using the numpy library. We will also demostrate how you cannot manipulate a given floating point number with a number smaller than the gap."
      ],
      "metadata": {
        "id": "NkYRSnP4VVhR"
      }
    },
    {
      "cell_type": "code",
      "source": [
        "import numpy as np\n",
        "\n",
        "for i in [1e-15, 3e-5, 5 ,15e3,3e12]:\n",
        "  print(f'Gap: {np.spacing(i)}, Verification: {i + (1/2) * np.spacing(i)} = {i}')"
      ],
      "metadata": {
        "colab": {
          "base_uri": "https://localhost:8080/"
        },
        "id": "jfzL77jUaZkz",
        "outputId": "915c6d0a-46af-497d-ea17-44a9749732b9"
      },
      "execution_count": 38,
      "outputs": [
        {
          "output_type": "stream",
          "name": "stdout",
          "text": [
            "Gap: 1.9721522630525295e-31, Verification: 1e-15 = 1e-15\n",
            "Gap: 3.3881317890172014e-21, Verification: 3.0000000000000004e-05 = 3e-05\n",
            "Gap: 8.881784197001252e-16, Verification: 5.0 = 5\n",
            "Gap: 1.8189894035458565e-12, Verification: 15000.0 = 15000.0\n",
            "Gap: 0.00048828125, Verification: 3000000000000.0 = 3000000000000.0\n"
          ]
        }
      ]
    },
    {
      "cell_type": "markdown",
      "source": [
        "As we see the gap increases in size as the floating point number also increases in size. We expect this to happen from how floats are constructed the size of the number mainly comes from the expoent of the number and as the number gets larger we expect the gap between usful maniplulation of the number to also increase.\n",
        "\n",
        "With this in mind the next question to ask is what is the smallest and largest gaps we can make? The smallest gap we can make (for a non-zero $f$) is $$\\epsilon_{min} = 2^{-1022}$$ \n",
        "with the largest gap being $$\\epsilon_{max} = 2^{1023}\\left(1+\\sum_{n=1}^{52}\\frac{1}{2^n}\\right)$$"
      ],
      "metadata": {
        "id": "DZcvM1aHauTF"
      }
    },
    {
      "cell_type": "code",
      "source": [
        "import sys\n",
        "print(f'Min: {2**(-1022)} Verification: {2**(-1022) == sys.float_info.min}') \n",
        "print(f'Max: {(2**(1023))*(1+sum(0.5**np.arange(1,53)))}, Verification: {(2**(1023))*(1+sum(0.5**np.arange(1,53))) == sys.float_info.max}')"
      ],
      "metadata": {
        "colab": {
          "base_uri": "https://localhost:8080/"
        },
        "id": "2VrkCvxUgd7E",
        "outputId": "1d25786e-1114-4c9b-a8ac-a2efce8f6e10"
      },
      "execution_count": 37,
      "outputs": [
        {
          "output_type": "stream",
          "name": "stdout",
          "text": [
            "Min: 2.2250738585072014e-308 Verification: True\n",
            "Max: 1.7976931348623157e+308, Verification: True\n"
          ]
        }
      ]
    },
    {
      "cell_type": "markdown",
      "source": [
        "Here we'll note that if we try to make numbers that exceed these limits we will get overflow/underflow (i.e the number we want to construct would need more than 64 bits to represent with our system). In the case of an overflow python assigns the value inf while underflow python assigns the vale of $0$. "
      ],
      "metadata": {
        "id": "NB_uhvGerCCF"
      }
    },
    {
      "cell_type": "code",
      "source": [
        "print(f'Overflow example (1e600): {1e600}, Underflow example (1e-1000): {1e-1000}')"
      ],
      "metadata": {
        "colab": {
          "base_uri": "https://localhost:8080/"
        },
        "id": "k60E4cW9reih",
        "outputId": "8f38a8b0-cafe-4774-98c2-f68cb4053b00"
      },
      "execution_count": 41,
      "outputs": [
        {
          "output_type": "stream",
          "name": "stdout",
          "text": [
            "Overflow example (1e600): inf, Underflow example (1e-1000): 0.0\n"
          ]
        }
      ]
    },
    {
      "cell_type": "markdown",
      "source": [
        "# 9.3 Round-Off Errors\n",
        "Since we use floating point numbers which can only store a finite amount of information we expect there to be some form of error when representing numbers that have infinitely many digits in both decimal and binary representations or for numbers in decimal that have a finite number of digits but in binary have an infite amount of digits. Consider the number $\\frac{1}{10}$. In decimal we can write this as $0.1$ however in binary we get $0.0001100110011...$ Since floating point numbers have a finite amount of storage we have to truncate this expansion. This type of error is called representation error. The other type of error is round off error. First let's consider the difference between 9.7 and 9."
      ],
      "metadata": {
        "id": "YNhG9yQwsN9d"
      }
    },
    {
      "cell_type": "code",
      "source": [
        "9.7-9"
      ],
      "metadata": {
        "colab": {
          "base_uri": "https://localhost:8080/"
        },
        "id": "RZspguwAwV_H",
        "outputId": "6d3cedac-74be-4b11-f889-fe546ffd8173"
      },
      "execution_count": 50,
      "outputs": [
        {
          "output_type": "execute_result",
          "data": {
            "text/plain": [
              "0.6999999999999993"
            ]
          },
          "metadata": {},
          "execution_count": 50
        }
      ]
    },
    {
      "cell_type": "markdown",
      "source": [
        "Here we know we should get 0.7 however using floats we get a number slightly smaller than 0.7. This is what is considered roundoff error. We can see that this type of error can accumulate over repeated calculations. Consider doing 9.7+4.211-4.211"
      ],
      "metadata": {
        "id": "cDWQJe2rxGml"
      }
    },
    {
      "cell_type": "code",
      "source": [
        "def round_error(num, difference, iter):\n",
        "  for n in range(iter):\n",
        "    num += difference\n",
        "  for n in range(iter):\n",
        "    num -= difference\n",
        "  print(f'{iter} iterations: {num}')\n",
        "  return None\n",
        "\n",
        "round_error(9, 4.211, 1)\n",
        "round_error(9, 4.211, 10)\n",
        "round_error(9, 4.211, 100)\n",
        "round_error(9, 4.211, int(1e3))\n",
        "round_error(9, 4.211, int(1e4))\n",
        "round_error(9, 4.211, int(1e5))"
      ],
      "metadata": {
        "colab": {
          "base_uri": "https://localhost:8080/"
        },
        "id": "DsabLB-Jymkl",
        "outputId": "034f05ea-c6c8-4500-f4ac-dd101cfdf393"
      },
      "execution_count": 61,
      "outputs": [
        {
          "output_type": "stream",
          "name": "stdout",
          "text": [
            "1 iterations: 9.0\n",
            "10 iterations: 9.000000000000004\n",
            "100 iterations: 9.00000000000001\n",
            "1000 iterations: 8.999999999999726\n",
            "10000 iterations: 9.000000000004274\n",
            "100000 iterations: 8.999999999967894\n"
          ]
        }
      ]
    }
  ]
}